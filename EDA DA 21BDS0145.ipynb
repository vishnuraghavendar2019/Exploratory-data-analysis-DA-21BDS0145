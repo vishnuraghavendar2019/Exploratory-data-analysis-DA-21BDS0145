{
  "cells": [
    {
      "cell_type": "markdown",
      "metadata": {
        "id": "view-in-github",
        "colab_type": "text"
      },
      "source": [
        "<a href=\"https://colab.research.google.com/github/vishnuraghavendar2019/Exploratory-data-analysis-DA-21BDS0145/blob/main/EDA%20DA%2021BDS0145.ipynb\" target=\"_parent\"><img src=\"https://colab.research.google.com/assets/colab-badge.svg\" alt=\"Open In Colab\"/></a>"
      ]
    },
    {
      "cell_type": "code",
      "source": [
        "import numpy as np\n",
        "import pandas as pd\n",
        "\n",
        "\n",
        "url = 'https://raw.githubusercontent.com/salemprakash/EDA/main/Data/constituents.csv'\n",
        "data = pd.read_csv(url)\n",
        "data.head(10)\n",
        "data.to_csv('constituents.csv')"
      ],
      "metadata": {
        "id": "E9nJ38tcGPJL"
      },
      "execution_count": 5,
      "outputs": []
    }
  ],
  "metadata": {
    "colab": {
      "name": "Welcome To Colab",
      "provenance": [],
      "include_colab_link": true
    },
    "kernelspec": {
      "display_name": "Python 3",
      "name": "python3"
    }
  },
  "nbformat": 4,
  "nbformat_minor": 0
}